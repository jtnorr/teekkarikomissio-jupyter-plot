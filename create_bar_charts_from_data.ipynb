{
 "cells": [
  {
   "cell_type": "markdown",
   "id": "0",
   "metadata": {},
   "source": [
    "# Import the necessary libraries and define functions for mass processing"
   ]
  },
  {
   "cell_type": "code",
   "execution_count": null,
   "id": "1",
   "metadata": {},
   "outputs": [],
   "source": [
    "import os\n",
    "import pandas as pd\n",
    "import matplotlib.pyplot as plt\n",
    "import matplotlib.ticker as ticker\n",
    "import seaborn as sns\n",
    "from collections import Counter\n",
    "import py7zr\n",
    "\n",
    "# def get_data_files(directory):\n",
    "#     \"\"\"\n",
    "#     Get a list of Excel files in a directory.\n",
    "#     \n",
    "#     :param directory: Path to the directory\n",
    "#     :return: List of Excel files\n",
    "#     \"\"\"\n",
    "#     return [os.path.join(directory, file) for file in os.listdir(directory) if file.endswith(\".xlsx\")]\n",
    "# \n",
    "# \n",
    "# def process_survey_data_to_df(directory=\"./data/\", column_index=7):\n",
    "#     \"\"\"\n",
    "#     Process survey data from multiple Excel files.\n",
    "#     \n",
    "#     :param directory: Path to the directory containing the Excel files\n",
    "#     :param column_index: Index of the column containing the survey responses\n",
    "#     :return: A DataFrame with processed responses\n",
    "#     \"\"\"\n",
    "#     excel_files = get_data_files(directory)\n",
    "#     all_counters = []\n",
    "#     \n",
    "#     for file in excel_files:\n",
    "#         df = pd.read_excel(file)\n",
    "#         responses = df.iloc[:, column_index].dropna()\n",
    "#         \n",
    "#         counter = Counter()\n",
    "#         for response in responses:\n",
    "#             if isinstance(response, str):\n",
    "#                 choices = [choice.strip() for choice in response.split(';') if choice.strip()]\n",
    "#                 counter.update(choices)\n",
    "#                 \n",
    "#         all_counters.append(counter)\n",
    "#         \n",
    "#     combined_counter = sum(all_counters, Counter())\n",
    "#     \n",
    "#     \n",
    "#     df = pd.DataFrame.from_dict(combined_counter, orient='index', columns=['Total'])\n",
    "#     df = df.sort_values(by='Total', ascending=False)\n",
    "#     \n",
    "#     \n",
    "#     for i, counter in enumerate(all_counters):\n",
    "#         df[f'Survey_{i+1}'] = df.index.map(counter)\n",
    "#         \n",
    "#     return df\n",
    "\n",
    "def process_survey_data(file_path, column_index):\n",
    "    \"\"\"\n",
    "    Process survey data from an Excel file.\n",
    "\n",
    "    :param file_path: Path to the Excel file\n",
    "    :param column_index: Index of the column containing the survey responses\n",
    "    :return: A Counter object with processed responses\n",
    "    \"\"\"\n",
    "    df = pd.read_excel(file_path)\n",
    "    responses = df.iloc[:, column_index].dropna()\n",
    "\n",
    "    counter = Counter()\n",
    "    for response in responses:\n",
    "        if isinstance(response, str):\n",
    "            choices = [choice.strip() for choice in response.split(';') if choice.strip()]\n",
    "            counter.update(choices)\n",
    "\n",
    "    return counter\n",
    "\n",
    "def combine_survey_results(*counters):\n",
    "    \"\"\"\n",
    "    Combine results from multiple surveys.\n",
    "\n",
    "    :param counters: Counter objects from different surveys\n",
    "    :return: A combined Counter object\n",
    "    \"\"\"\n",
    "    combined = Counter()\n",
    "    for counter in counters:\n",
    "        combined.update(counter)\n",
    "    return combined\n",
    "\n",
    "def plot_survey_results(counter, title, output_file_base):\n",
    "    \"\"\"\n",
    "    Plot survey results as a horizontal bar chart using Seaborn.\n",
    "\n",
    "    :param counter: Counter object with survey results\n",
    "    :param title: Title for the chart\n",
    "    :param output_file_base: File name for saving the chart\n",
    "    \"\"\"\n",
    "    sorted_result = dict(sorted(counter.items(), key=lambda x: x[1], reverse=True))\n",
    "    values = list(sorted_result.values())\n",
    "    keys = list(sorted_result.keys())\n",
    "\n",
    "\n",
    "    plt.figure(figsize=(12, max(8, len(sorted_result) * 0.4)))\n",
    "    sns.set_style(\"ticks\")\n",
    "    sns.despine()\n",
    "    sns.color_palette()\n",
    "    ax = sns.barplot(x=values, y=keys, orient='h', palette=\"deep\", hue=values)\n",
    "    ax.legend_.remove()\n",
    "\n",
    "    ax.set_title(title, fontsize=16)\n",
    "    ax.set_xlabel(\"Vastausten määrä\", fontsize=12)\n",
    "    ax.set_ylabel(\"Vaihtoehdot\", fontsize=12)\n",
    "\n",
    "    for i, v in enumerate(sorted_result.values()):\n",
    "        ax.text(v, i, f' {v}', va='center', fontsize=10)\n",
    "\n",
    "    ax.xaxis.set_major_locator(ticker.MaxNLocator(integer=True))\n",
    "\n",
    "    plt.tight_layout()\n",
    "    plt.savefig(f\"{output_file_base}.pdf\", format='pdf', dpi=300, bbox_inches='tight')\n",
    "    plt.savefig(f\"{output_file_base}.png\", format='png', dpi=300, bbox_inches='tight')\n",
    "    plt.savefig(f\"{output_file_base}.svg\", format='svg', bbox_inches='tight')\n",
    "    plt.close()\n",
    "    \n",
    "    \n",
    "def create_archive(file_path, archive_path):\n",
    "    \"\"\"\n",
    "    Create a 7z archive from a file.\n",
    "    \n",
    "    :param file_path: Path to the file to be archived\n",
    "    :param archive_path: Path to the archive file\n",
    "    \"\"\"\n",
    "    with py7zr.SevenZipFile(archive_path, 'w') as archive:\n",
    "        archive.writeall(file_path)\n"
   ]
  },
  {
   "cell_type": "markdown",
   "id": "2",
   "metadata": {},
   "source": [
    "# Process the data from the surveys"
   ]
  },
  {
   "cell_type": "code",
   "execution_count": null,
   "id": "3",
   "metadata": {},
   "outputs": [],
   "source": [
    "# survey_df = process_survey_data_to_df()\n",
    "\n",
    "\n",
    "\n",
    "\n",
    "survey1 = process_survey_data(\"data/hallitus.xlsx\", 7)\n",
    "survey2 = process_survey_data(\"data/killat.xlsx\", 7)\n",
    "survey3 = process_survey_data(\"data/kiltojen_jäsenet.xlsx\", 7)"
   ]
  },
  {
   "cell_type": "markdown",
   "id": "4",
   "metadata": {},
   "source": [
    "# Plot individual survey results"
   ]
  },
  {
   "cell_type": "code",
   "execution_count": null,
   "id": "5",
   "metadata": {},
   "outputs": [],
   "source": [
    "plot_survey_results(survey1, \"Turkulaiseen teekkariuteen yhdistetyt arvot - TK:n hallitus\", \"./plots/hallitus/arvot\")\n",
    "plot_survey_results(survey2, \"Turkulaiseen teekkariuteen yhdistetyt arvot - Killat\", \"./plots/killat/arvot\")\n",
    "plot_survey_results(survey3, \"Turkulaiseen teekkariuteen yhdistetyt arvot - Kiltojen jäsenet\", \"./plots/jasenet/arvot\")"
   ]
  },
  {
   "cell_type": "markdown",
   "id": "6",
   "metadata": {},
   "source": [
    "# Combine the results from all surveys and plot the combined results"
   ]
  },
  {
   "cell_type": "code",
   "execution_count": null,
   "id": "7",
   "metadata": {},
   "outputs": [],
   "source": [
    "combined_results = combine_survey_results(survey1, survey2, survey3)\n",
    "plot_survey_results(combined_results, \"Turkulaiseen teekkariuteen yhdistetyt arvot - Yhdistetyt tulokset\", \"./plots/yhdistetyt/arvot\")"
   ]
  },
  {
   "cell_type": "markdown",
   "id": "8",
   "metadata": {},
   "source": [
    "# Create an archive of the plots"
   ]
  },
  {
   "cell_type": "code",
   "execution_count": null,
   "id": "9",
   "metadata": {},
   "outputs": [],
   "source": [
    "create_archive(\"plots\", \"./target/plots.7z\")"
   ]
  }
 ],
 "metadata": {
  "kernelspec": {
   "display_name": "Python 3",
   "language": "python",
   "name": "python3"
  },
  "language_info": {
   "codemirror_mode": {
    "name": "ipython",
    "version": 2
   },
   "file_extension": ".py",
   "mimetype": "text/x-python",
   "name": "python",
   "nbconvert_exporter": "python",
   "pygments_lexer": "ipython2",
   "version": "2.7.6"
  }
 },
 "nbformat": 4,
 "nbformat_minor": 5
}
