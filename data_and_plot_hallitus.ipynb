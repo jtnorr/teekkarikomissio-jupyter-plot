{
 "cells": [
  {
   "cell_type": "code",
   "execution_count": null,
   "id": "0",
   "metadata": {},
   "outputs": [],
   "source": [
    "import pandas as pd\n",
    "import matplotlib.pyplot as plt\n",
    "from collections import Counter"
   ]
  },
  {
   "cell_type": "code",
   "execution_count": null,
   "id": "1",
   "metadata": {},
   "outputs": [],
   "source": [
    "df = pd.read_excel('data\\\\hallitus.xlsx')"
   ]
  },
  {
   "cell_type": "code",
   "execution_count": null,
   "id": "2",
   "metadata": {},
   "outputs": [],
   "source": [
    "print(df.columns)\n",
    "df.head()\n"
   ]
  },
  {
   "cell_type": "code",
   "execution_count": null,
   "id": "3",
   "metadata": {},
   "outputs": [],
   "source": [
    "column_name = df.columns[7]\n",
    "responses = df[column_name].dropna()\n",
    "\n",
    "def count_responses(responses):\n",
    "    counter = Counter()\n",
    "    for response in responses:\n",
    "            if isinstance(response, str):  # Ensure response is a string to prevent whitespace answers\n",
    "                choices = [choice.strip() for choice in response.split(';') if choice.strip()]\n",
    "                counter.update(choices)\n",
    "    return counter\n",
    "\n",
    "result = count_responses(responses)\n",
    "\n",
    "if not isinstance(result, dict):\n",
    "    result = dict(result)\n",
    "    \n",
    "    \n",
    "sorted_results = dict(sorted(result.items(), key=lambda x: x[1], reverse=True))\n",
    "sorted_results.pop('', None)\n",
    "\n",
    "for option, count in sorted_results.items():\n",
    "    print(f\"'{option}': {count}\")\n"
   ]
  },
  {
   "cell_type": "code",
   "execution_count": null,
   "id": "4",
   "metadata": {},
   "outputs": [],
   "source": [
    "result_df = pd.DataFrame.from_dict(sorted_results, orient='index', columns=['Count'])\n",
    "result_df.index.name = 'Option'\n",
    "result_df\n"
   ]
  },
  {
   "cell_type": "code",
   "execution_count": null,
   "id": "5",
   "metadata": {},
   "outputs": [],
   "source": [
    "plt.figure(figsize=(12, 8))\n",
    "plt.bar(sorted_results.keys(), sorted_results.values())\n",
    "plt.title(\"TK:n hallituksen vastaukset turkulaisen teekkariuden arvoista\")\n",
    "plt.xlabel(\"Vaihtoehdot\")\n",
    "plt.ylabel(\"Vastausten määrä\")\n",
    "plt.xticks(rotation=45, ha='right')\n",
    "plt.tight_layout()\n",
    "plt.show()"
   ]
  },
  {
   "cell_type": "code",
   "execution_count": null,
   "id": "6",
   "metadata": {},
   "outputs": [],
   "source": [
    "plt.figure(figsize=(12, 8))\n",
    "plt.barh(list(sorted_results.keys()), list(sorted_results.values()))\n",
    "plt.title(\"Responses to Turku Teekkari Values Question\")\n",
    "plt.xlabel(\"Number of Responses\")\n",
    "plt.ylabel(\"Options\")\n",
    "plt.tight_layout()\n",
    "plt.show()"
   ]
  }
 ],
 "metadata": {
  "kernelspec": {
   "display_name": "Python 3",
   "language": "python",
   "name": "python3"
  },
  "language_info": {
   "codemirror_mode": {
    "name": "ipython",
    "version": 2
   },
   "file_extension": ".py",
   "mimetype": "text/x-python",
   "name": "python",
   "nbconvert_exporter": "python",
   "pygments_lexer": "ipython2",
   "version": "2.7.6"
  }
 },
 "nbformat": 4,
 "nbformat_minor": 5
}
