{
 "cells": [
  {
   "cell_type": "markdown",
   "id": "0",
   "metadata": {},
   "source": [
    "# Import the necessary libraries"
   ]
  },
  {
   "cell_type": "code",
   "execution_count": null,
   "id": "1",
   "metadata": {},
   "outputs": [],
   "source": [
    "import pandas as pd\n",
    "import matplotlib.pyplot as plt\n",
    "import seaborn as sns\n",
    "from collections import Counter"
   ]
  },
  {
   "cell_type": "markdown",
   "id": "2",
   "metadata": {},
   "source": [
    "# Read the data from the excel file\n",
    "Here you can specify the path to the excel file. The data is read into a pandas DataFrame."
   ]
  },
  {
   "cell_type": "code",
   "execution_count": null,
   "id": "3",
   "metadata": {},
   "outputs": [],
   "source": [
    "df = pd.read_excel('data\\\\hallitus.xlsx')"
   ]
  },
  {
   "cell_type": "markdown",
   "id": "4",
   "metadata": {},
   "source": [
    "# Display the columns and the first few rows of the DataFrame"
   ]
  },
  {
   "cell_type": "code",
   "execution_count": null,
   "id": "5",
   "metadata": {},
   "outputs": [],
   "source": [
    "print(df.columns)\n",
    "df.head()\n"
   ]
  },
  {
   "cell_type": "markdown",
   "id": "6",
   "metadata": {},
   "source": [
    "# Count the number of responses for each option in the column"
   ]
  },
  {
   "cell_type": "code",
   "execution_count": null,
   "id": "7",
   "metadata": {},
   "outputs": [],
   "source": [
    "column_name = df.columns[7]\n",
    "responses = df[column_name].dropna()\n",
    "\n",
    "def count_responses(responses):\n",
    "    counter = Counter()\n",
    "    for response in responses:\n",
    "            if isinstance(response, str):  # Ensure response is a string to prevent whitespace answers\n",
    "                choices = [choice.strip() for choice in response.split(';') if choice.strip()]\n",
    "                counter.update(choices)\n",
    "    return counter\n",
    "\n",
    "result = count_responses(responses)\n",
    "\n",
    "if not isinstance(result, dict):\n",
    "    result = dict(result)\n",
    "    \n",
    "    \n",
    "sorted_results = dict(sorted(result.items(), key=lambda x: x[1], reverse=True))\n",
    "sorted_results.pop('', None)\n",
    "\n",
    "for option, count in sorted_results.items():\n",
    "    print(f\"'{option}': {count}\")\n"
   ]
  },
  {
   "cell_type": "markdown",
   "id": "8",
   "metadata": {},
   "source": [
    "# Create a DataFrame from the results and display it"
   ]
  },
  {
   "cell_type": "code",
   "execution_count": null,
   "id": "9",
   "metadata": {},
   "outputs": [],
   "source": [
    "result_df = pd.DataFrame.from_dict(sorted_results, orient='index', columns=['Count'])\n",
    "result_df.index.name = 'Option'\n",
    "result_df\n"
   ]
  },
  {
   "cell_type": "markdown",
   "id": "10",
   "metadata": {},
   "source": [
    "# Plot the results"
   ]
  },
  {
   "cell_type": "code",
   "execution_count": null,
   "id": "11",
   "metadata": {},
   "outputs": [],
   "source": [
    "plt.figure(figsize=(12, 8))\n",
    "plt.bar(sorted_results.keys(), sorted_results.values())\n",
    "plt.title(\"TK:n hallituksen vastaukset turkulaisen teekkariuden arvoista\")\n",
    "plt.xlabel(\"Vaihtoehdot\")\n",
    "plt.ylabel(\"Vastausten määrä\")\n",
    "plt.xticks(rotation=45, ha='right')\n",
    "plt.tight_layout()\n",
    "plt.show()"
   ]
  },
  {
   "cell_type": "markdown",
   "id": "12",
   "metadata": {},
   "source": [
    "# Plot the results as a horizontal bar plot"
   ]
  },
  {
   "cell_type": "code",
   "execution_count": null,
   "id": "13",
   "metadata": {},
   "outputs": [],
   "source": [
    "plt.figure(figsize=(12, 8))\n",
    "plt.barh(list(sorted_results.keys()), list(sorted_results.values()))\n",
    "plt.title(\"Responses to Turku Teekkari Values Question\")\n",
    "plt.xlabel(\"Number of Responses\")\n",
    "plt.ylabel(\"Options\")\n",
    "plt.tight_layout()\n",
    "plt.show()"
   ]
  },
  {
   "cell_type": "markdown",
   "id": "14",
   "metadata": {},
   "source": [
    "# Plot the results and save as file using Seaborn library"
   ]
  },
  {
   "cell_type": "code",
   "execution_count": null,
   "id": "15",
   "metadata": {},
   "outputs": [],
   "source": [
    "plt.style.use('seaborn-whitegrid')\n",
    "\n",
    "fig, ax = plt.subplots(figsize=(10, max(8, len(sorted_results) * 0.4)))\n",
    "bars = ax.barh(list(sorted_results.keys()), list(sorted_results.values()))\n",
    "\n",
    "# Customize the chart\n",
    "ax.set_title(\"Turkulaiseen teekkariuteen yhdistettävät arvot, hallitus\", fontsize=16)\n",
    "ax.set_xlabel(\"Vastauksien määrä\", fontsize=12)\n",
    "ax.set_ylabel(\"Vaihtoehdot\", fontsize=12)\n",
    "\n",
    "for bar in bars:\n",
    "    width = bar.get_width()\n",
    "    ax.text(width, bar.get_y() + bar.get_height()/2, f'{width}', \n",
    "            ha='left', va='center', fontsize=10, fontweight='bold')\n",
    "\n",
    "plt.tight_layout()\n",
    "plt.savefig('./plots/hallitus/turku_teekkari_values.png', dpi=300, bbox_inches='tight')\n",
    "plt.savefig('./plots/hallitus/turku_teekkari_values.pdf', bbox_inches='tight')"
   ]
  }
 ],
 "metadata": {
  "kernelspec": {
   "display_name": "Python 3",
   "language": "python",
   "name": "python3"
  },
  "language_info": {
   "codemirror_mode": {
    "name": "ipython",
    "version": 2
   },
   "file_extension": ".py",
   "mimetype": "text/x-python",
   "name": "python",
   "nbconvert_exporter": "python",
   "pygments_lexer": "ipython2",
   "version": "2.7.6"
  }
 },
 "nbformat": 4,
 "nbformat_minor": 5
}
